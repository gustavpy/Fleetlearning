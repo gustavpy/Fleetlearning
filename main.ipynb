{
 "cells": [
  {
   "cell_type": "code",
   "execution_count": null,
   "metadata": {},
   "outputs": [],
   "source": [
    "from data_loader import load_datasets\n",
    "from data_partitioner import partition_train_data, PartitionStrategy\n",
    "from fleet_aggregation import BaseStrategy\n",
    "from models import Net\n",
    "from utilities import train, get_parameters, set_parameters\n",
    "import matplotlib as plt\n",
    "import torch\n",
    "import random\n",
    "from zod import ZodFrames\n",
    "from zod import constants\n",
    "import numpy as np\n",
    "import matplotlib.pyplot as plt"
   ]
  },
  {
   "cell_type": "code",
   "execution_count": null,
   "metadata": {},
   "outputs": [],
   "source": [
    "# GPU\n",
    "device = torch.device(\n",
    "    \"cuda\" if torch.cuda.is_available() else \"cpu\"\n",
    ")\n",
    "print(f\"{device} is aviable\")"
   ]
  },
  {
   "cell_type": "markdown",
   "metadata": {},
   "source": [
    "# SETTINGS "
   ]
  },
  {
   "cell_type": "code",
   "execution_count": null,
   "metadata": {},
   "outputs": [],
   "source": [
    "NO_CLIENTS = 40 #40\n",
    "CLIENTS_PER_ROUND = 10 #10\n",
    "PERCENT_DATA = 0.01\n",
    "GLOBAL_ROUNDS = 40 #40\n",
    "\n",
    "FILE_NAME = f\"spc_{NO_CLIENTS}_{CLIENTS_PER_ROUND}_{int(PERCENT_DATA * 100)}\"\n",
    "PLOT_NAME = f\"plt_rndm_{NO_CLIENTS}_{CLIENTS_PER_ROUND}_{int(PERCENT_DATA * 100)}\"\n",
    "\n",
    "\n",
    "def select_client(clients):\n",
    "    return random.sample(clients,CLIENTS_PER_ROUND)\n",
    "\n",
    "\n",
    "#Använd för att köra clients i ordning\n",
    "def order_client(clients):\n",
    "    if(len(clients) >= 10):\n",
    "        result = clients[:9]\n",
    "        del clients[:9]\n",
    "        return result\n",
    "    else:\n",
    "        print(\"ERROR: List of Clients is empty\")\n",
    "\n",
    "        # Avkommentera för att kunna loopa igenom clients i ordning flera gånger\n",
    "        clients = [str(i) for i in range(NO_CLIENTS)]\n",
    "        result = clients[:9]\n",
    "        del clients[:9]\n",
    "        return result\n"
   ]
  },
  {
   "cell_type": "markdown",
   "metadata": {},
   "source": [
    "LOAD PARAMETERS AND MODEL"
   ]
  },
  {
   "cell_type": "code",
   "execution_count": null,
   "metadata": {},
   "outputs": [],
   "source": [
    "def setup():\n",
    "    global testloader, clients, partitions, device, strategy, round_test_losses, zod_frames, round_train_losses, net\n",
    "    # GPU\n",
    "    device = torch.device(\n",
    "        \"cuda\" if torch.cuda.is_available() else \"cpu\"\n",
    "    )\n",
    "    print(f\"{device} is aviable\")\n",
    "\n",
    "    # Pictures\n",
    "    zod_frames = ZodFrames(\"/mnt/ZOD\", version=\"full\")\n",
    "    strategy = BaseStrategy()\n",
    "    net = Net().to(device)  \n",
    "    clients = [str(i) for i in range(NO_CLIENTS)]\n",
    "\n",
    "    \n",
    "    partitions = partition_train_data(\n",
    "        PartitionStrategy.RANDOM,\n",
    "        NO_CLIENTS,\n",
    "        zod_frames,\n",
    "        PERCENT_DATA)\n",
    "    \n",
    "\n",
    "    print(\"-------------------------------------------------\")\n",
    "    print(\"-------------------------------------------------\")\n",
    "    print(partitions)\n",
    "    print(\"-------------------------------------------------\")\n",
    "    print(\"-------------------------------------------------\")\n",
    "\n",
    "# testloader is a class that can be used to iterate over a dataset'\n",
    "    _, testloader = load_datasets(zod_frames.get_split(constants.VAL), zod_frames)\n",
    "    print(\"Testloader:\",len(testloader))\n",
    "    round_test_losses = []\n",
    "    round_train_losses = []\n",
    "    return testloader, clients, partitions, device, strategy, round_test_losses, zod_frames, round_train_losses, net\n",
    "\n",
    "setup()"
   ]
  },
  {
   "cell_type": "markdown",
   "metadata": {},
   "source": [
    "# TRAIN | MAIN CODE"
   ]
  },
  {
   "cell_type": "code",
   "execution_count": null,
   "metadata": {},
   "outputs": [],
   "source": [
    "def main() -> None:  \n",
    "    early_stopping = False\n",
    "\n",
    "    for round in range(1, GLOBAL_ROUNDS+1):\n",
    "        if early_stopping:\n",
    "            break\n",
    "        \n",
    "        print(\" \")\n",
    "        print(\"ROUND\", round)\n",
    "        selected = select_client(clients)\n",
    "        nets = []\n",
    "        \n",
    "        for client_idx in selected:\n",
    "            \n",
    "            net_copy = net.to(device) \n",
    "\n",
    "            net_copy.load_state_dict(net.state_dict()) \n",
    "            net_copy.train()\n",
    "    \n",
    "            trainloader, valloader = load_datasets(partitions[str(client_idx)], zod_frames)\n",
    "\n",
    "            epoch_train_losses, epoch_val_losses = train(net_copy, trainloader, valloader, epochs=5)\n",
    "            print(f\"Client: {client_idx:>2} Train losses: {epoch_train_losses}, Val losses: {epoch_val_losses}\")\n",
    "            \n",
    "            nets.append((get_parameters(net_copy), 1))\n",
    "\n",
    "\n",
    "        agg_weights = strategy.aggregate_fit_fedavg(nets)\n",
    "        \n",
    "        set_parameters(net, agg_weights[0])\n",
    "\n",
    "        net.eval()\n",
    "        batch_test_losses = []\n",
    "        batch_train_losses = []\n",
    "\n",
    "        for data, target in testloader:\n",
    "            data, target = data.to(device), target.to(device)\n",
    "            pred = net(data)\n",
    "            batch_test_losses.append(net.loss_fn(pred, target).item())\n",
    "\n",
    "        batch_train_losses.append(sum(epoch_train_losses)/len(epoch_train_losses))\n",
    "\n",
    "\n",
    "        round_test_losses.append(sum(batch_test_losses)/len(batch_test_losses))\n",
    "        round_train_losses.append(sum(batch_train_losses)/len(batch_train_losses))\n",
    "\n",
    "        # EARLY STOPPING\n",
    "        train_count = 0\n",
    "        if round > 1:\n",
    "            if float(abs(round_train_losses[-1] - round_train_losses[-2])) <= 0.05:\n",
    "                train_count += 1\n",
    "                if train_count == 5:\n",
    "                    early_stopping = True\n",
    "                else: \n",
    "                    train_count = 0\n",
    "\n",
    "        test_count = 0\n",
    "        if round > 1:  \n",
    "            if float(round_test_losses[-1] - round_test_losses[-2]) > 0.15:  \n",
    "                test_count += 1\n",
    "                if test_count == 5:\n",
    "                    early_stopping = True  \n",
    "                else:\n",
    "                    test_count = 0\n",
    "\n",
    "        \n",
    "        print(f\"Test loss: {round_test_losses[-1]}\")\n",
    "        print(f\"Training loss: {round_train_losses[-1]}\")\n",
    "\n",
    "\n",
    "    print('==========================================================')\n",
    "    print(round_test_losses,'TEST')\n",
    "    print(round_train_losses,'TRAIN') \n",
    "    print('==========================================================')\n",
    "\n",
    "    length_of_round = len(round_test_losses)\n",
    "\n",
    "    model_params = get_parameters(net)\n",
    "    model_params = np.array(model_params, dtype=object)\n",
    "    filename = f\"{FILE_NAME}_{length_of_round}.npz\"\n",
    "    np.savez(filename, model_params)\n",
    "\n",
    "if __name__ == \"__main__\":\n",
    "\n",
    "    main()"
   ]
  },
  {
   "cell_type": "markdown",
   "metadata": {},
   "source": [
    "PLOT"
   ]
  },
  {
   "cell_type": "code",
   "execution_count": null,
   "metadata": {},
   "outputs": [],
   "source": [
    "length_of_round = len(round_test_losses)\n",
    "\n",
    "plt.figure(figsize=(10, 5))  \n",
    "plt.plot(range(1, length_of_round + 1), round_test_losses, marker='o', linestyle='-', label='Test Loss')\n",
    "plt.plot(range(1, length_of_round + 1), round_train_losses, marker='o', linestyle='-', label='Train Loss')\n",
    "plt.title('Test Loss Over Global Rounds')\n",
    "plt.xlabel('Global Rounds')\n",
    "plt.ylabel('Test Loss')\n",
    "plt.grid(True)\n",
    "plt.legend() \n",
    "plt.savefig(f\"{PLOT_NAME}_{length_of_round}.png\")\n",
    "\n"
   ]
  },
  {
   "cell_type": "code",
   "execution_count": null,
   "metadata": {},
   "outputs": [],
   "source": [
    "print(round_test_losses)"
   ]
  },
  {
   "cell_type": "code",
   "execution_count": null,
   "metadata": {},
   "outputs": [],
   "source": [
    "# round_test_losses.clear()\n",
    "# round_train_losses.clear()"
   ]
  }
 ],
 "metadata": {
  "kernelspec": {
   "display_name": "Python 3",
   "language": "python",
   "name": "python3"
  },
  "language_info": {
   "codemirror_mode": {
    "name": "ipython",
    "version": 3
   },
   "file_extension": ".py",
   "mimetype": "text/x-python",
   "name": "python",
   "nbconvert_exporter": "python",
   "pygments_lexer": "ipython3",
   "version": "3.10.12"
  }
 },
 "nbformat": 4,
 "nbformat_minor": 2
}
